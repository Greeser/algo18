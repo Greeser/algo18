{
 "cells": [
  {
   "cell_type": "code",
   "execution_count": 1,
   "metadata": {},
   "outputs": [],
   "source": [
    "import numpy as np\n",
    "from flann import FLANN\n",
    "from datasets import *\n",
    "import time\n",
    "import matplotlib.pyplot as plt"
   ]
  },
  {
   "cell_type": "code",
   "execution_count": 2,
   "metadata": {},
   "outputs": [],
   "source": [
    "datasets_pathes = [ \"mnist.hdf5\", \"sift.hdf5\"]"
   ]
  },
  {
   "cell_type": "code",
   "execution_count": 3,
   "metadata": {},
   "outputs": [],
   "source": [
    "def build_time_consumption(algo, X_train):\n",
    "    t0 = time.time()\n",
    "    tree = algo.fit(X_train, algorithm=\"kdtree\")\n",
    "    total = time.time() - t0\n",
    "    print(algo.name + \" fitting time:\" + str(total) + \" seconds\")\n",
    "    return total"
   ]
  },
  {
   "cell_type": "code",
   "execution_count": 4,
   "metadata": {},
   "outputs": [],
   "source": [
    "def predict_time_consumption(algo, X_test, n):\n",
    "    results = []\n",
    "    total_time = 0\n",
    "    times = []\n",
    "    for x in X_test:\n",
    "        t0 = time.time()\n",
    "        tmp = algo.predict(x, n)\n",
    "        t_tmp = (time.time() - t0)\n",
    "        total_time += t_tmp\n",
    "        times.append(t_tmp)\n",
    "        \n",
    "    average_time =  total_time / len(X_test)\n",
    "    print(algo.name + \" total time:\" + str(total_time) + \" seconds\")\n",
    "    print(algo.name + \" average time:\" + str(average_time) + \" seconds\")\n",
    "    plt.title(\"Distribution of execution time\")\n",
    "    plt.hist(times, bins = 5, range=(min(times),max(times)), log=True)\n",
    "    plt.xlabel(\"Time (sec)\")\n",
    "    plt.ylabel(\"Number of executions\")\n",
    "    plt.show()\n",
    "    return total_time, average_time"
   ]
  },
  {
   "cell_type": "code",
   "execution_count": 5,
   "metadata": {},
   "outputs": [],
   "source": [
    "def time_metrics(algo, X_train, X_test, n):\n",
    "    build_time_consumption(algo, X_train)\n",
    "    predict_time_consumption(algo, X_test, n)"
   ]
  },
  {
   "cell_type": "code",
   "execution_count": 6,
   "metadata": {},
   "outputs": [],
   "source": [
    "def accuracy(algo, X_test, neighbors, n):\n",
    "    results = [ algo.predict(x,n) for x in X_test]\n",
    "    acc = 0.0\n",
    "    for idx, res in enumerate(results):\n",
    "        if res in neighbors[idx]:\n",
    "            acc += 1.0\n",
    "    acc /= len(X_test)\n",
    "    print(\"Accuracy: \" + str(acc))"
   ]
  },
  {
   "cell_type": "code",
   "execution_count": 7,
   "metadata": {},
   "outputs": [],
   "source": [
    "def analyse_algo(algo, dataset_fp, n):\n",
    "    X_train, X_test, neighbors = get_dataset(dataset_fp)\n",
    "    time_metrics(algo, X_train, X_test, n=1)\n",
    "    accuracy(algo, X_test, neighbors, n)"
   ]
  },
  {
   "cell_type": "code",
   "execution_count": 8,
   "metadata": {},
   "outputs": [
    {
     "name": "stdout",
     "output_type": "stream",
     "text": [
      "Dataset mnist.hdf5\n",
      "FLANN fitting time:0.929872989654541 seconds\n",
      "FLANN total time:1.1929688453674316 seconds\n",
      "FLANN average time:0.00011929688453674316 seconds\n"
     ]
    },
    {
     "data": {
      "image/png": "[encoded data removed]",
      "text/plain": [
       "<Figure size 432x288 with 1 Axes>"
      ]
     },
     "metadata": {
      "needs_background": "light"
     },
     "output_type": "display_data"
    },
    {
     "name": "stdout",
     "output_type": "stream",
     "text": [
      "Accuracy: 0.9974\n",
      "-------------------------------------------------------\n",
      "Dataset sift.hdf5\n",
      "FLANN fitting time:3.6148414611816406 seconds\n",
      "FLANN total time:0.9992673397064209 seconds\n",
      "FLANN average time:9.99267339706421e-05 seconds\n"
     ]
    },
    {
     "data": {
      "image/png": "[encoded data removed]",
      "text/plain": [
       "<Figure size 432x288 with 1 Axes>"
      ]
     },
     "metadata": {
      "needs_background": "light"
     },
     "output_type": "display_data"
    },
    {
     "name": "stdout",
     "output_type": "stream",
     "text": [
      "Accuracy: 0.9495\n",
      "-------------------------------------------------------\n"
     ]
    }
   ],
   "source": [
    "for d in datasets_pathes:\n",
    "    print(\"Dataset \" + d)\n",
    "    analyse_algo(FLANN(), d, 1)\n",
    "    print(\"-------------------------------------------------------\")"
   ]
  },
  {
   "cell_type": "code",
   "execution_count": null,
   "metadata": {},
   "outputs": [],
   "source": []
  }
 ],
 "metadata": {
  "kernelspec": {
   "display_name": "Python 3",
   "language": "python",
   "name": "python3"
  },
  "language_info": {
   "codemirror_mode": {
    "name": "ipython",
    "version": 3
   },
   "file_extension": ".py",
   "mimetype": "text/x-python",
   "name": "python",
   "nbconvert_exporter": "python",
   "pygments_lexer": "ipython3",
   "version": "3.6.7"
  }
 },
 "nbformat": 4,
 "nbformat_minor": 2
}
