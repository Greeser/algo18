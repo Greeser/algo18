{
 "cells": [
  {
   "cell_type": "code",
   "execution_count": 1,
   "metadata": {},
   "outputs": [],
   "source": [
    "import numpy as np\n",
    "from flann import FLANN\n",
    "from datasets import *\n",
    "import time\n",
    "import matplotlib.pyplot as plt\n",
    "from lshash import LSHashing"
   ]
  },
  {
   "cell_type": "code",
   "execution_count": 2,
   "metadata": {},
   "outputs": [],
   "source": [
    "datasets_pathes = [ \"mnist.hdf5\", \"sift.hdf5\"]"
   ]
  },
  {
   "cell_type": "code",
   "execution_count": 3,
   "metadata": {},
   "outputs": [],
   "source": [
    "def build_time_consumption(algo, X_train):\n",
    "    t0 = time.time()\n",
    "    try:\n",
    "        tree = algo.fit(X_train, algorithm=\"kdtree\")\n",
    "    except:\n",
    "        tree = algo.fit(X_train, hash_size=32, n_hashtables=12)\n",
    "    total = time.time() - t0\n",
    "    print(algo.name + \" fitting time:\" + str(total) + \" seconds\")\n",
    "    return total"
   ]
  },
  {
   "cell_type": "code",
   "execution_count": 14,
   "metadata": {},
   "outputs": [],
   "source": [
    "def predict_time_consumption(algo, X_test, n):\n",
    "    results = []\n",
    "    total_time = 0\n",
    "    times = []\n",
    "    for x in X_test:\n",
    "        t0 = time.time()\n",
    "        tmp = algo.predict(x, n)\n",
    "        t_tmp = (time.time() - t0)\n",
    "        total_time += t_tmp\n",
    "        times.append(t_tmp)\n",
    "        \n",
    "    average_time =  total_time / len(X_test)\n",
    "    print(algo.name + \" total time:\" + str(total_time) + \" seconds\")\n",
    "    print(algo.name + \" average time:\" + str(average_time) + \" seconds\")\n",
    "    plt.title(\"Distribution of execution time\")\n",
    "    plt.hist(times, bins = 5, range=(min(times),max(times)), log=True, label=algo.name)\n",
    "    plt.xlabel(\"Time (sec)\")\n",
    "    plt.ylabel(\"Number of executions\")\n",
    "    plt.legend()\n",
    "    plt.show()\n",
    "    return total_time, average_time, times"
   ]
  },
  {
   "cell_type": "code",
   "execution_count": 15,
   "metadata": {},
   "outputs": [],
   "source": [
    "def time_metrics(algo, X_train, X_test, n):\n",
    "    build_time = build_time_consumption(algo, X_train)\n",
    "    total_predict_time, average_predict_time, times = predict_time_consumption(algo, X_test, n)\n",
    "    return (build_time, total_predict_time, average_predict_time, times)"
   ]
  },
  {
   "cell_type": "code",
   "execution_count": 16,
   "metadata": {},
   "outputs": [],
   "source": [
    "def accuracy(algo, X_test, neighbors, n):\n",
    "    results = [ algo.predict(x,n) for x in X_test]\n",
    "    acc = 0.0\n",
    "    for idx, res in enumerate(results):\n",
    "        if res in neighbors[idx]:\n",
    "            acc += 1.0\n",
    "    acc /= len(X_test)\n",
    "    print(\"Accuracy: \" + str(acc))\n",
    "    return acc"
   ]
  },
  {
   "cell_type": "code",
   "execution_count": 17,
   "metadata": {},
   "outputs": [],
   "source": [
    "def analyse_algo(algo, dataset_fp, n):\n",
    "    X_train, X_test, neighbors = get_dataset(dataset_fp)\n",
    "    times = time_metrics(algo, X_train, X_test, n=1)\n",
    "    acc = accuracy(algo, X_test, neighbors, n)\n",
    "    return times, acc"
   ]
  },
  {
   "cell_type": "code",
   "execution_count": 18,
   "metadata": {},
   "outputs": [
    {
     "name": "stdout",
     "output_type": "stream",
     "text": [
      "Dataset mnist.hdf5\n",
      "FLANN fitting time:1.0130577087402344 seconds\n",
      "FLANN total time:1.1787545680999756 seconds\n",
      "FLANN average time:0.00011787545680999756 seconds\n"
     ]
    },
    {
     "data": {
      "image/png": "[encoded data removed]",
      "text/plain": [
       "<Figure size 432x288 with 1 Axes>"
      ]
     },
     "metadata": {
      "needs_background": "light"
     },
     "output_type": "display_data"
    },
    {
     "name": "stdout",
     "output_type": "stream",
     "text": [
      "Accuracy: 0.9977\n",
      "-------------------------------------------------------\n",
      "Dataset sift.hdf5\n",
      "FLANN fitting time:4.458935022354126 seconds\n",
      "FLANN total time:1.2911133766174316 seconds\n",
      "FLANN average time:0.00012911133766174316 seconds\n"
     ]
    },
    {
     "data": {
      "image/png": "[encoded data removed]",
      "text/plain": [
       "<Figure size 432x288 with 1 Axes>"
      ]
     },
     "metadata": {
      "needs_background": "light"
     },
     "output_type": "display_data"
    },
    {
     "name": "stdout",
     "output_type": "stream",
     "text": [
      "Accuracy: 0.9486\n",
      "-------------------------------------------------------\n"
     ]
    }
   ],
   "source": [
    "flann_times = []\n",
    "flann_acc = []\n",
    "for d in datasets_pathes:\n",
    "    print(\"Dataset \" + d)\n",
    "    times, acc = analyse_algo(FLANN(), d, 1)\n",
    "    flann_times.append(times)\n",
    "    flann_acc.append(acc)\n",
    "    print(\"-------------------------------------------------------\")"
   ]
  },
  {
   "cell_type": "code",
   "execution_count": 19,
   "metadata": {},
   "outputs": [
    {
     "name": "stdout",
     "output_type": "stream",
     "text": [
      "Dataset mnist.hdf5\n",
      "LSHashing fitting time:68.54245591163635 seconds\n",
      "LSHashing total time:26.919742584228516 seconds\n",
      "LSHashing average time:0.0026919742584228515 seconds\n"
     ]
    },
    {
     "data": {
      "image/png": "[encoded data removed]",
      "text/plain": [
       "<Figure size 432x288 with 1 Axes>"
      ]
     },
     "metadata": {
      "needs_background": "light"
     },
     "output_type": "display_data"
    },
    {
     "name": "stderr",
     "output_type": "stream",
     "text": [
      "/home/gr/anaconda3/envs/ml/lib/python3.6/site-packages/ipykernel_launcher.py:5: DeprecationWarning: elementwise == comparison failed; this will raise an error in the future.\n",
      "  \"\"\"\n"
     ]
    },
    {
     "name": "stdout",
     "output_type": "stream",
     "text": [
      "Accuracy: 0.6619\n",
      "-------------------------------------------------------\n",
      "Dataset sift.hdf5\n",
      "LSHashing fitting time:256.0945198535919 seconds\n",
      "LSHashing total time:74.28972697257996 seconds\n",
      "LSHashing average time:0.007428972697257996 seconds\n"
     ]
    },
    {
     "data": {
      "image/png": "[encoded data removed]",
      "text/plain": [
       "<Figure size 432x288 with 1 Axes>"
      ]
     },
     "metadata": {
      "needs_background": "light"
     },
     "output_type": "display_data"
    },
    {
     "name": "stdout",
     "output_type": "stream",
     "text": [
      "Accuracy: 0.8976\n",
      "-------------------------------------------------------\n"
     ]
    }
   ],
   "source": [
    "lsh_times = []\n",
    "lsh_acc = []\n",
    "for d in datasets_pathes:\n",
    "    print(\"Dataset \" + d)\n",
    "    times, acc = analyse_algo(LSHashing(), d, 1)\n",
    "    lsh_times.append(times)\n",
    "    lsh_acc.append(acc)\n",
    "    print(\"-------------------------------------------------------\")"
   ]
  },
  {
   "cell_type": "code",
   "execution_count": null,
   "metadata": {},
   "outputs": [],
   "source": []
  }
 ],
 "metadata": {
  "kernelspec": {
   "display_name": "Python 3",
   "language": "python",
   "name": "python3"
  },
  "language_info": {
   "codemirror_mode": {
    "name": "ipython",
    "version": 3
   },
   "file_extension": ".py",
   "mimetype": "text/x-python",
   "name": "python",
   "nbconvert_exporter": "python",
   "pygments_lexer": "ipython3",
   "version": "3.6.7"
  }
 },
 "nbformat": 4,
 "nbformat_minor": 2
}
